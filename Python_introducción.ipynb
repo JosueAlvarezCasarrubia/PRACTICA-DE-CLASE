{
  "nbformat": 4,
  "nbformat_minor": 0,
  "metadata": {
    "colab": {
      "provenance": [],
      "authorship_tag": "ABX9TyPDY9jXwE78LYtC61vvCFnL",
      "include_colab_link": true
    },
    "kernelspec": {
      "name": "python3",
      "display_name": "Python 3"
    },
    "language_info": {
      "name": "python"
    }
  },
  "cells": [
    {
      "cell_type": "markdown",
      "metadata": {
        "id": "view-in-github",
        "colab_type": "text"
      },
      "source": [
        "<a href=\"https://colab.research.google.com/github/JosueAlvarezCasarrubia/PRACTICA-DE-CLASE-JOSUE/blob/main/Python_introducci%C3%B3n.ipynb\" target=\"_parent\"><img src=\"https://colab.research.google.com/assets/colab-badge.svg\" alt=\"Open In Colab\"/></a>"
      ]
    },
    {
      "cell_type": "markdown",
      "source": [
        "***hola***"
      ],
      "metadata": {
        "id": "IJduziRSr0t8"
      }
    },
    {
      "cell_type": "markdown",
      "source": [
        "# MIS APUNTES DE PYTHON\n",
        "\n",
        "\n",
        "### FUNDAMENTOS DE PROGRAMACIÓN 2024_2\n",
        "\n",
        "**NOMBRE:** JOSUE ALVAREZ CASARRUBIA\n",
        "\n",
        "**FECHA DE CREACIÓN:** 20 DE AGOSTO DE 2024\n",
        "\n",
        "__EMAIL:__ josue.alvarez@upb.edu.co\n",
        "\n"
      ],
      "metadata": {
        "id": "N4yi_iFsseUX"
      }
    },
    {
      "cell_type": "code",
      "source": [
        "# MIS PRIMEROS PASOS CON PYTHON\n",
        "nombre = \"JOSUE\"\n",
        "edad = 21\n",
        "mensaje = \"hola, soy \"+ nombre +\" y tengo \"+ str(edad)+\" años\"\n",
        "\n",
        "print(mensaje)\n",
        "\n",
        "\n",
        "print(\"hola, mi nombre es\",nombre,\"y tengo\",edad, \"años de edad\")\n",
        "\n",
        "\n",
        "#numeros\n",
        "a = 10\n",
        "b = 2.5\n",
        "c = a + b\n",
        "print(a+b)\n",
        "\n",
        "\n",
        "# tipo de datos\n",
        "print(type(a))\n",
        "print(type(b))\n",
        "print(type(c))"
      ],
      "metadata": {
        "colab": {
          "base_uri": "https://localhost:8080/"
        },
        "id": "g6ZZh9X8upoS",
        "outputId": "d9cd0f9b-047c-4972-e259-0bf266060185"
      },
      "execution_count": 16,
      "outputs": [
        {
          "output_type": "stream",
          "name": "stdout",
          "text": [
            "hola, soy JOSUE y tengo 21 años\n",
            "hola, mi nombre es JOSUE y tengo 21 años de edad\n",
            "12.5\n",
            "<class 'int'>\n",
            "<class 'float'>\n",
            "<class 'float'>\n"
          ]
        }
      ]
    },
    {
      "cell_type": "code",
      "source": [
        "# OPERACIONES MATEMATICAS BASICAS\n",
        "\n",
        "print(3 + 2)  # suma\n",
        "print(3 - 2)  # resta\n",
        "print(3 * 2)  # multiplicacion\n",
        "print(3 / 2)  # division entera\n",
        "print(3 % 2)  # modulo\n",
        "print(3 ** 2) # potencia\n",
        "print(3 // 2) # divicion entera\n",
        "print(2** (1/2)) # raiz cuadrada\n",
        "\n",
        "\n",
        "\n"
      ],
      "metadata": {
        "colab": {
          "base_uri": "https://localhost:8080/"
        },
        "id": "rO1s0dTFzMoR",
        "outputId": "2ba1967f-e0e4-488c-c644-fb64d269f2ef"
      },
      "execution_count": 18,
      "outputs": [
        {
          "output_type": "stream",
          "name": "stdout",
          "text": [
            "5\n",
            "1\n",
            "6\n",
            "1.5\n",
            "1\n",
            "9\n",
            "1\n"
          ]
        }
      ]
    },
    {
      "cell_type": "code",
      "source": [
        "# CONCATENACION\n",
        "name = \"josue\"\n",
        "apellido = \"alvarez casarrubia\"\n",
        "nombre_completo= name +\" \" + apellido\n",
        "print(\"-\"*100)\n",
        "print(nombre_completo )\n",
        "print(\"-\"*100)"
      ],
      "metadata": {
        "colab": {
          "base_uri": "https://localhost:8080/"
        },
        "id": "fnquVnDt0nVq",
        "outputId": "ceeb1afc-16b1-454d-fdc0-cea73ac30ed1"
      },
      "execution_count": 29,
      "outputs": [
        {
          "output_type": "stream",
          "name": "stdout",
          "text": [
            "----------------------------------------------------------------------------------------------------\n",
            "josue alvarez casarrubia\n",
            "----------------------------------------------------------------------------------------------------\n"
          ]
        }
      ]
    },
    {
      "cell_type": "code",
      "source": [
        "a = 20\n",
        "print(a)\n",
        "b = 10\n",
        "a +=1\n",
        "print(a)\n",
        "\n",
        ""
      ],
      "metadata": {
        "colab": {
          "base_uri": "https://localhost:8080/"
        },
        "id": "BOOg2Ens23ZP",
        "outputId": "721beefe-5311-4f1d-ca0c-6640b4b8e5db"
      },
      "execution_count": 39,
      "outputs": [
        {
          "output_type": "stream",
          "name": "stdout",
          "text": [
            "20\n",
            "21\n"
          ]
        }
      ]
    },
    {
      "cell_type": "code",
      "source": [
        "#MULTILINEA\n",
        "\n",
        "song=\"\"\"\n",
        "aa\n",
        "# bb\n",
        "# cc\n",
        "\"\"\"\n",
        "\n",
        "print(song)"
      ],
      "metadata": {
        "colab": {
          "base_uri": "https://localhost:8080/"
        },
        "id": "BzjR21dF4Vs-",
        "outputId": "833e4c9a-d3f4-488c-b418-45ff0b2fa6a9"
      },
      "execution_count": 40,
      "outputs": [
        {
          "output_type": "stream",
          "name": "stdout",
          "text": [
            "\n",
            "aa\n",
            "bb\n",
            "cc\n",
            "\n"
          ]
        }
      ]
    },
    {
      "cell_type": "code",
      "source": [
        "# IMPUTS (SE SUGIERE QUE ESTEN AL FINAL DEL CODIGO)\n",
        "\n",
        "a = input(\"ingere el primer numero\")\n",
        "b = input(\"ingrese el segundo numero\")\n",
        "print(float(a) + float(b2a_base64))\n",
        "\n",
        "# a = float input(\"ingere el primer numero\")\n",
        "# b = float input(\"ingrese el segundo numero\")\n",
        "# print(float(a) + float(5))\n",
        "\n",
        "\n",
        "\n"
      ],
      "metadata": {
        "colab": {
          "base_uri": "https://localhost:8080/"
        },
        "id": "U6XBTKrV5J7h",
        "outputId": "019b6d33-809f-44c7-d201-0cb4c6b15774"
      },
      "execution_count": 46,
      "outputs": [
        {
          "output_type": "stream",
          "name": "stdout",
          "text": [
            "ingere el primer numero3\n",
            "ingrese el segundo numero5\n",
            "8.0\n"
          ]
        }
      ]
    }
  ]
}