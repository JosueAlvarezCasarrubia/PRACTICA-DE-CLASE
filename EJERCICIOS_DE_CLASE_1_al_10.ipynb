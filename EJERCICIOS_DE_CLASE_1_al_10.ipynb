{
  "nbformat": 4,
  "nbformat_minor": 0,
  "metadata": {
    "colab": {
      "provenance": [],
      "authorship_tag": "ABX9TyOIJudLe3qOCWnTs+K3LYSx",
      "include_colab_link": true
    },
    "kernelspec": {
      "name": "python3",
      "display_name": "Python 3"
    },
    "language_info": {
      "name": "python"
    }
  },
  "cells": [
    {
      "cell_type": "markdown",
      "metadata": {
        "id": "view-in-github",
        "colab_type": "text"
      },
      "source": [
        "<a href=\"https://colab.research.google.com/github/JosueAlvarezCasarrubia/PRACTICA-DE-CLASE-JOSUE/blob/main/EJERCICIOS_DE_CLASE_1_al_10.ipynb\" target=\"_parent\"><img src=\"https://colab.research.google.com/assets/colab-badge.svg\" alt=\"Open In Colab\"/></a>"
      ]
    },
    {
      "cell_type": "markdown",
      "source": [
        "# EJERCICIOS DE CLASE  1 - 10\n",
        "\n",
        "\n",
        "### FUNDAMENTOS DE PROGRAMACIÓN 2024_2\n",
        "\n",
        "**NOMBRE:** JOSUE ALVAREZ CASARRUBIA\n",
        "\n",
        "__EMAIL:__ josue.alvarez@upb.edu.co\n"
      ],
      "metadata": {
        "id": "BsdHk_iOEjf6"
      }
    },
    {
      "cell_type": "code",
      "source": [
        "#EJERCICIO 1: Información Personal\n",
        "\n",
        "#Diseña un programa que muestre la siguiente información:\n",
        "#-Tu nombre\n",
        "#-Tu dirección, con ciudad, estado y código postal\n",
        "#-Tu número de teléfono\n",
        "#-Tu especialización universitaria\n",
        "\n",
        "# SOLUCION\n",
        "\n",
        "# Programa  información_personal\n",
        "\n",
        "# Declaración de variables y toma de datos\n",
        "nombre = input(\"Ingrese su Nombre completo\")\n",
        "direccion = input(\"Ingrese su Dirección, Ciudad, Estado, Código Postal\")\n",
        "telefono = input(\"Ingrese su número de teléfono\")\n",
        "especializacion = input(\"Ingrese su especialización universitaria\")\n",
        "\n",
        "# Presentación de la información\n",
        "print(\"Nombre:................\", nombre)\n",
        "print(\"Dirección:.............\", direccion)\n",
        "print(\"Teléfono:..............\", telefono)\n",
        "print(\"Especialización:.......\", especializacion)\n"
      ],
      "metadata": {
        "colab": {
          "base_uri": "https://localhost:8080/"
        },
        "id": "kbUJi6gQ7N3t",
        "outputId": "e5ec64e8-61bc-4b9c-9cca-edd7227986ea"
      },
      "execution_count": null,
      "outputs": [
        {
          "output_type": "stream",
          "name": "stdout",
          "text": [
            "Ingrese su Nombre completoJosue Alvarez Casarrubia\n",
            "Ingrese su Dirección, Ciudad, Estado, Código PostalMontería\n",
            "Ingrese su número de teléfono1234567890\n",
            "Ingrese su especialización universitariaABCDEFGHIJ\n",
            "Nombre:................ Josue Alvarez Casarrubia\n",
            "Dirección:............. Montería\n",
            "Teléfono:.............. 1234567890\n",
            "Especialización:....... ABCDEFGHIJ\n"
          ]
        }
      ]
    },
    {
      "cell_type": "code",
      "source": [
        "#EJERCICIO 2: Predicción de Ventas\n",
        "\n",
        "#Una empresa ha determinado que su beneficio anual es típicamente el 23%\n",
        "#de las ventas totales.\n",
        "#Diseña un programa que pida al usuario ingresar la cantidad proyectada de\n",
        "#ventas totales, y luego\n",
        "#muestre el beneficio que se obtendrá de esa cantidad.\n",
        "#Pista: Usa el valor 0.23 para representar el 23%.\n",
        "\n",
        "# SOLUCION\n",
        "\n",
        "# Programa para calcular el beneficio anual segun la predicción de las ventas\n",
        "\n",
        "# Solicitar a la empresa que  ingrese la cantidad proyectada de ventas totales\n",
        "ventas_totales=float(input(\"Ingrese la cantidad proyectada de ventas totales:\"))\n",
        "#tambien podemos hacer que la empresa ingrese el porcentaje proyectado ya que\n",
        "# este es un valor que puede cambiar\n",
        "#pero para este caso no se pedirá a la empresa que ingrese ese valor\n",
        "\n",
        "# se calcula el beneficio\n",
        "beneficio = ventas_totales * 0.23\n",
        "\n",
        "\n",
        "#se muestra el beneficio proyectado\n",
        "print(\"\")\n",
        "print(\"El beneficio anual proyectado es: $\", beneficio)\n",
        "\n"
      ],
      "metadata": {
        "colab": {
          "base_uri": "https://localhost:8080/"
        },
        "id": "7_F5kk36CsaM",
        "outputId": "b9acc8a7-548f-4bd7-b780-4dc963027e16"
      },
      "execution_count": 28,
      "outputs": [
        {
          "output_type": "stream",
          "name": "stdout",
          "text": [
            "Ingrese la cantidad proyectada de ventas totales:1000\n",
            "\n",
            "El beneficio anual proyectado es: $ 230.0\n"
          ]
        }
      ]
    },
    {
      "cell_type": "code",
      "source": [
        "#EJERCICIO 3: Cálculo de Terreno\n",
        "\n",
        "#Un acre de terreno es equivalente a 43,560 pies cuadrados.\n",
        "# Diseña un programa que pida al usuario\n",
        "#ingresar la cantidad total de pies cuadrados en un terreno y calcule\n",
        "#el número de acres en el terreno.\n",
        "#Pista: Divide la cantidad ingresada por 43,560 para obtener el número de acres.\n",
        "\n",
        "# SOLUCION\n",
        "\n",
        "# Programa para calcular el número de ACRES de un terreno a partir de PIES CUADRADOS\n",
        "\n",
        "# Se Solicita al usuario que ingrese la cantidad de pies cuadrados del terreno\n",
        "pies_cuadrados=float(input(\"Ingrese la cantidad de pies cuadrados del terreno:\"))\n",
        "\n",
        "# Se calcula la cantidad de acres\n",
        "acres = pies_cuadrados / 43560\n",
        "\n",
        "# Se muestra el número de acres calculado\n",
        "print(\"\")\n",
        "print(\"El número de acres del terreno es: \", acres)\n"
      ],
      "metadata": {
        "colab": {
          "base_uri": "https://localhost:8080/"
        },
        "id": "-7g9vWLIFN2E",
        "outputId": "bc821514-2481-42ae-e160-1b276afded74"
      },
      "execution_count": 29,
      "outputs": [
        {
          "output_type": "stream",
          "name": "stdout",
          "text": [
            "Ingrese la cantidad de pies cuadrados del terreno:100000\n",
            "\n",
            "El número de acres del terreno es:  2.295684113865932\n"
          ]
        }
      ]
    },
    {
      "cell_type": "code",
      "source": [
        "#EJERCICIO 4: Compra Total\n",
        "\n",
        "#Un cliente en una tienda está comprando cinco artículos.\n",
        "#Diseña un programa que pida el precio de cada artículo, y luego muestre\n",
        "# el subtotal de la venta, la cantidad del impuesto de venta y el total.\n",
        "#Asume que el impuesto de venta es del 6%.\n",
        "\n",
        "# SOLUCION\n",
        "\n",
        "#Programa para calcular el subtotal,el impuesto de venta y el total de una compra\n",
        "\n",
        "# Se solicita al usuario que ingrese el precio de cada artículo\n",
        "precio1 = float(input(\"Ingrese el precio del artículo 1: \"))\n",
        "precio2 = float(input(\"Ingrese el precio del artículo 2: \"))\n",
        "precio3 = float(input(\"Ingrese el precio del artículo 3: \"))\n",
        "precio4 = float(input(\"Ingrese el precio del artículo 4: \"))\n",
        "precio5 = float(input(\"Ingrese el precio del artículo 5: \"))\n",
        "\n",
        "\n",
        "# CALCULOS\n",
        "subtotal = precio1 + precio2 + precio3 + precio4 + precio5\n",
        "impuesto_venta = subtotal * 0.06\n",
        "total = subtotal + impuesto_venta\n",
        "\n",
        "# Se muestra el subtotal, el impuesto de venta y el total\n",
        "print(\"\")\n",
        "print(\"Subtotal:---------------------- $\", subtotal)\n",
        "print(\"Impuesto de venta del 6%:-------$\", impuesto_venta,)\n",
        "print(\"Total:--------------------------$\", round(total, 2))\n",
        "#con round puedo redondear numeros y los decimales a obtener se pones despues\n",
        "# de la coma: ejemplo       round(variable, 3) son 3 decimales\n"
      ],
      "metadata": {
        "colab": {
          "base_uri": "https://localhost:8080/"
        },
        "id": "bWQwaXNCHEQc",
        "outputId": "76406101-4c06-4048-bfa0-944c37186ea9"
      },
      "execution_count": 23,
      "outputs": [
        {
          "output_type": "stream",
          "name": "stdout",
          "text": [
            "Ingrese el precio del artículo 1: 43\n",
            "Ingrese el precio del artículo 2: 43\n",
            "Ingrese el precio del artículo 3: 56\n",
            "Ingrese el precio del artículo 4: 45\n",
            "Ingrese el precio del artículo 5: 54\n",
            "\n",
            "Subtotal:---------------------- $ 241.0\n",
            "Impuesto de venta del 6%:-------$ 14.459999999999999\n",
            "Total:--------------------------$ 255.46\n"
          ]
        }
      ]
    },
    {
      "cell_type": "code",
      "source": [
        "#EJERCICIO 5: Distancia Recorrida\n",
        "\n",
        "#Asumiendo que no hay accidentes ni retrasos, la distancia que un automóvil\n",
        "#recorre por la autopista se puede calcular con la siguiente fórmula:\n",
        "#  Distancia = Velocidad × Tiempo\n",
        "\n",
        "# Un automóvil viaja a 60 millas por hora.\n",
        "\n",
        "#Diseña un programa que muestre lo siguiente:\n",
        "#- La distancia que el automóvil recorrerá en 5 horas\n",
        "#- La distancia que el automóvil recorrerá en 8 horas\n",
        "#- La distancia que el automóvil recorrerá en 12 horas\n",
        "\n",
        "# SOLUCION\n",
        "\n",
        "# Programa para calcular la distancia recorrida por un automóvil\n",
        "\n",
        "# Definir la velocidad\n",
        "velocidad = 60 #millas/hora\n",
        "\n",
        "# # Calcular la distancia recorrida en diferentes periodos de tiempo\n",
        "distancia_5_horas = velocidad * 5\n",
        "distancia_8_horas = velocidad * 8\n",
        "distancia_12_horas = velocidad * 12\n",
        "\n",
        "# # Mostrar las distancias calculadas\n",
        "print(\"La distancia que recorrerá en 5 horas es:\", distancia_5_horas, \"millas\")\n",
        "print(\"La distancia que recorrerá en 8 horas es:\", distancia_8_horas, \"millas\")\n",
        "print(\"La distancia que recorrerá en 12 horas es:\", distancia_12_horas, \"millas\")\n",
        "\n",
        "\n",
        "\n",
        "               #   #podemos crear una alternativa interactiva a este ejercicio haciendo que el usuario ingrese la velocidad y tambien el tiempo. asi:\n",
        "               #   #Definir la velocidad\n",
        "               #   velocidad = float(input(\"Ingrese la velocidad en millas por hora: \"))\n",
        "               #   horas = float(input(\"Ingrese cuantas horas de recorrido son: \"))\n",
        "\n",
        "               #   # Calcular la distancia recorrida en diferentes periodos de tiempo\n",
        "               #   distancia_recorrida = velocidad * horas\n",
        "               #   print(\"la distancia que recorrerá en\",horas,\" horas es:\",distancia_recorrida,\"millas\" )\n"
      ],
      "metadata": {
        "colab": {
          "base_uri": "https://localhost:8080/"
        },
        "id": "7orTm7oLve5k",
        "outputId": "d1b1bf12-a5a3-44eb-b264-524f2162ab43"
      },
      "execution_count": null,
      "outputs": [
        {
          "output_type": "stream",
          "name": "stdout",
          "text": [
            "La distancia que recorrerá en 5 horas es: 300 millas\n",
            "La distancia que recorrerá en 8 horas es: 480 millas\n",
            "La distancia que recorrerá en 12 horas es: 720 millas\n"
          ]
        }
      ]
    },
    {
      "cell_type": "code",
      "source": [
        "#EJERCICIO 6: Impuesto de Venta\n",
        "\n",
        "#Diseña un programa que pida al usuario ingresar la cantidad de una compra.\n",
        "#El programa debe luego calcular el impuesto de venta estatal y el impuesto\n",
        "#de venta del condado. Asume que el impuesto deventa estatal es del 4%\n",
        "#y el impuesto de venta del condado es del 2%.\n",
        "#El programa debe mostrar lancantidad de la compra, el impuesto de venta estatal,\n",
        "# el impuesto de venta del condado, el impuesto de venta total y\n",
        "#el total de la venta\n",
        " #(que es la suma de la cantidad de la compra más el impuesto de venta total).\n",
        "\n",
        "#Pista: Usa el valor 0.02 para representar el 2% y 0.04 para representar el 4%.\n",
        "\n",
        "\n",
        "# SOLUCION\n",
        "\n",
        "# Programa para calcular y el total de una compra con impuestos de venta\n",
        "\n",
        "#ingresar la cantidad de la compra\n",
        "cantidad_compra = float(input(\"Ingrese la cantidad de la compra: \"))\n",
        "\n",
        "# se calculan los impuestos de venta y la venta total\n",
        "impuesto_estatal = cantidad_compra * 0.04\n",
        "impuesto_condado = cantidad_compra * 0.02\n",
        "impuesto_total = impuesto_estatal + impuesto_condado\n",
        "venta_total = cantidad_compra + impuesto_total\n",
        "\n",
        "# Mostrar la cantidad de la compra,el impuesto de venta estatal,del condado,\n",
        "#y el total\n",
        "\n",
        "# quise agregarle mas cosas que no van con el ejercicio para que se vea como\n",
        "# una factura o recibo de venta\n",
        "print(\"\")\n",
        "print(\"             RECIBO DE VENTA:\")\n",
        "print(\"ARTICULOS                                  PRECIO\")\n",
        "print(\"   1--------------------------------------$\")\n",
        "print(\"   2--------------------------------------$\")\n",
        "print(\"   3--------------------------------------$\")\n",
        "print(\"   4--------------------------------------$\")\n",
        "print(\"   5--------------------------------------$\")\n",
        "print(\"   6--------------------------------------$\")\n",
        "print(\"   7--------------------------------------$\")\n",
        "print(\"   8--------------------------------------$\")\n",
        "print(\"   9--------------------------------------$\")\n",
        "print(\"\")\n",
        "print(\"\")\n",
        "print(\"Cantidad de la compra:--------------------$\",cantidad_compra)\n",
        "print(\"Impuesto de venta estatal del 4%:---------$\",impuesto_estatal)\n",
        "print(\"Impuesto de venta del condado de 2%:------$\", impuesto_condado)\n",
        "print(\"Impuesto de venta total:------------------$\", impuesto_total)\n",
        "print(\"\")\n",
        "print(\"***TOTAL DE LA COMPRA***:-----------------$\", venta_total)\n",
        "print(\"\")\n",
        "print(\"          GRACIAS POR PREFERISNOS\")\n",
        "print(\"\")\n",
        "print(\"               VUELVA PRONTO\")\n",
        "\n"
      ],
      "metadata": {
        "colab": {
          "base_uri": "https://localhost:8080/"
        },
        "id": "_4PAhJ0A6uO8",
        "outputId": "78d7ac29-d7e6-4766-eaf4-b2ad8716d271"
      },
      "execution_count": null,
      "outputs": [
        {
          "output_type": "stream",
          "name": "stdout",
          "text": [
            "Ingrese la cantidad de la compra: 500\n",
            "\n",
            "             RECIBO DE VENTA:\n",
            "ARTICULOS                                  PRECIO\n",
            "   1--------------------------------------$\n",
            "   2--------------------------------------$\n",
            "   3--------------------------------------$\n",
            "   4--------------------------------------$\n",
            "   5--------------------------------------$\n",
            "   6--------------------------------------$\n",
            "   7--------------------------------------$\n",
            "   8--------------------------------------$\n",
            "   9--------------------------------------$\n",
            "\n",
            "\n",
            "Cantidad de la compra:--------------------$ 500.0\n",
            "Impuesto de venta estatal del 4%:---------$ 20.0\n",
            "Impuesto de venta del condado de 2%:------$ 10.0\n",
            "Impuesto de venta total:------------------$ 30.0\n",
            "\n",
            "***TOTAL DE LA COMPRA***:-----------------$ 530.0\n",
            "\n",
            "          GRACIAS POR PREFERISNOS\n",
            "\n",
            "               VUELVA PRONTO\n"
          ]
        }
      ]
    },
    {
      "cell_type": "code",
      "source": [
        "#EJERCICIO 7: Millas por Galón\n",
        "\n",
        "#Las millas por galón (MPG) de un automóvil se pueden calcular con la siguiente\n",
        "#fórmula:\n",
        "#MPG = Millas recorridas / Galones de gasolina usados\n",
        "\n",
        "#Diseña un programa que pida al usuario el número de millas recorridas y\n",
        "#los galones de gasolina usados.\n",
        "#Debe calcular las millas por galón del automóvil y mostrar el resultado\n",
        "#en pantalla.\n",
        "\n",
        "# SOLUCION\n",
        "\n",
        "# Programa para calcular las millas por galón (MPG)\n",
        "\n",
        "# se le pide al usuario que ingrese las millas y los galones\n",
        "millas_recorridas = float(input(\"Ingrese el número de millas recorridas: \"))\n",
        "galones_usados = float(input(\"Ingrese los galones de gasolina usados: \"))\n",
        "\n",
        "# se calculan las millas por galón (MPG)\n",
        "mpg = millas_recorridas / galones_usados\n",
        "\n",
        "# se muestra el resultado de MPG\n",
        "print(\"\")\n",
        "print(\"Las millas por galón (MPG) del automóvil son: \", round(mpg, 2) )\n",
        " #redondeo a 2 decimales con la opcion round(varible, decimales[])\n"
      ],
      "metadata": {
        "id": "faLGbNodCYZc",
        "colab": {
          "base_uri": "https://localhost:8080/"
        },
        "outputId": "2a1d7a16-01aa-458c-e124-473ab5c3a2c5"
      },
      "execution_count": 24,
      "outputs": [
        {
          "output_type": "stream",
          "name": "stdout",
          "text": [
            "Ingrese el número de millas recorridas: 40\n",
            "Ingrese los galones de gasolina usados: 7\n",
            "\n",
            "Las millas por galón (MPG) del automóvil son:  5.71\n"
          ]
        }
      ]
    },
    {
      "cell_type": "code",
      "source": [
        "#EJERCICIO 8: Propina, Impuesto y Total\n",
        "\n",
        "#Diseña un programa que calcule la cantidad total de una comida comprada\n",
        "#en un restaurante. El programa debe pedir al usuario que ingrese el costo de\n",
        "# la comida, y luego calcular la cantidad de una propina del 15%\n",
        "#y un impuesto de venta del 7%. Muestra cada una de estas cantidades y el total.\n",
        "\n",
        "# SOLUCION\n",
        "\n",
        "# Programa para calcular la propina, impuesto y total de una comida\n",
        "\n",
        "# se pide al usuario que ingrese el costo de la comida\n",
        "costo_comida = float(input(\"Ingrese el costo de la comida: \"))\n",
        "\n",
        "# se alcula la propina, impuesto y total de una comida\n",
        "propina = costo_comida * 0.15\n",
        "impuesto = costo_comida * 0.07\n",
        "total = costo_comida + propina + impuesto\n",
        "\n",
        "# se muestran los resultados\n",
        "print(\"\")\n",
        "print(\"costo inicial:---------$\", costo_comida)\n",
        "print(\"Propina:---------------$\", round(propina, 2))   # redondeo a 2 decimales\n",
        "print(\"Impuesto de venta:-----$\", round(impuesto, 2))  # redondeo a 2 decimales\n",
        "print(\"Total a pagar:---------$\", round(total, 2))     # redondeo a 2 decimales\n"
      ],
      "metadata": {
        "id": "WymrXXpfDf3h",
        "colab": {
          "base_uri": "https://localhost:8080/"
        },
        "outputId": "24af1225-0f3b-4343-a469-91016f40e809"
      },
      "execution_count": 26,
      "outputs": [
        {
          "output_type": "stream",
          "name": "stdout",
          "text": [
            "Ingrese el costo de la comida: 8700\n",
            "\n",
            "costo inicial:---------$ 8700.0\n",
            "Propina:---------------$ 1305.0\n",
            "Impuesto de venta:-----$ 609.0\n",
            "Total a pagar:---------$ 10614.0\n"
          ]
        }
      ]
    },
    {
      "cell_type": "code",
      "source": [
        "# EJERCICIO 9: Convertidor de Temperatura de Celsius a Fahrenheit\n",
        "\n",
        "# Diseña un programa que convierta temperaturas de Celsius a Fahrenheit.\n",
        "#La fórmula es la siguiente: F=(9/5)C + 32\n",
        "# El programa debe pedir al usuario que ingrese una temperatura en Celsius,\n",
        "# y luego mostrar la temperatura convertida a Fahrenheit\n",
        "\n",
        "# SOLUCION\n",
        "\n",
        "# Programa para convertir una temperatura de Celsius a Fahrenheit\n",
        "\n",
        "# se solisita al usuario que ingrese la temperatura en grados Celsius\n",
        "celsius = float(input(\"Ingrese la temperatura en grados Celsius: \"))\n",
        "\n",
        "# Convertir a Fahrenheit\n",
        "fahrenheit = (9 / 5) * celsius + 32\n",
        "\n",
        "# Mostrar la temperatura convertida\n",
        "print(\"\")\n",
        "print(\"La temperatura en grados Fahrenheit es: \", fahrenheit)\n"
      ],
      "metadata": {
        "id": "-nby5ewTDk6j",
        "colab": {
          "base_uri": "https://localhost:8080/"
        },
        "outputId": "b92f69ed-58e3-4590-eadc-d2a5f45755e2"
      },
      "execution_count": 27,
      "outputs": [
        {
          "output_type": "stream",
          "name": "stdout",
          "text": [
            "Ingrese la temperatura en grados Celsius: 30\n",
            "\n",
            "La temperatura en grados Fahrenheit es:  86.0\n"
          ]
        }
      ]
    },
    {
      "cell_type": "code",
      "source": [
        "# EJERCICIO 10: Programa de Transacciones de Acciones\n",
        "\n",
        "# El mes pasado Joe compró algunas acciones en Acme Software, Inc.\n",
        "# Aquí están los detalles de laccompra:\n",
        "\n",
        "# • El número de acciones que Joe compró fue de 1,000.\n",
        "# • Cuando Joe compró las acciones, pagó $32.87 por acción.\n",
        "# • Joe pagó a su corredor una comisión que ascendió al 2% de la\n",
        "#   cantidad que pagó por las acciones.\n",
        "\n",
        "#  Dos semanas después Joe vendió  las acciones.\n",
        "#   Aquí están los detalles de la venta:\n",
        "\n",
        "# • El número de acciones que Joe vendió fue de 1,000.\n",
        "# • Vendió las acciones por $33.92 por acción.\n",
        "# • Pagó a su corredor otra comisión que ascendió al 2% de la\n",
        "#   cantidad que recibió por las acciones.\n",
        "\n",
        "#  Diseña un programa que muestre la siguiente información:\n",
        "# • La cantidad de dinero que Joe pagó por las acciones.\n",
        "# •La cantidad de la comisión que Joe pagó asu corredor cuandocomprólas acciones.\n",
        "# • La cantidad por la que Joe vendió las acciones.\n",
        "# •La cantidad de la comisión que Joe pagó asu corredor cuandovendiólas acciones.\n",
        "\n",
        "# • ¿Joe ganó o perdió dinero? Muestra la cantidad de ganancia o pérdida después\n",
        "# de que Joe vendió las acciones y pagó a su corredor (ambas veces)\n",
        "\n",
        "\n",
        "# <<<<<SOLUCION>>>>>\n",
        "\n",
        "# Programa para calcular las transacciones de acciones de Joe\n",
        "\n",
        "# declaracion de variables con los datos iniciales\n",
        "num_acciones = 1000\n",
        "precio_compra = 32.87\n",
        "precio_venta = 33.92\n",
        "\n",
        "# Cálculo del monto pagado por las acciones y la comisión al comprar\n",
        "monto_compra = num_acciones * precio_compra\n",
        "comision_compra = monto_compra * 0.02\n",
        "\n",
        "# Cálculo del monto recibido por las acciones y la comisión al vender\n",
        "monto_venta = num_acciones * precio_venta\n",
        "comision_venta = monto_venta * 0.02\n",
        "\n",
        "# Cálculo de la ganancia o pérdida\n",
        "ganancia_perdida=(monto_venta - comision_venta - monto_compra - comision_compra)\n",
        "\n",
        "# Presentación de resultados\n",
        "print(\"Cantidad pagada por las acciones:-----------------$\", monto_compra)\n",
        "print(\"Comisión pagada al comprar:-----------------------$\", comision_compra)\n",
        "print(\"Cantidad recibida por las acciones vendidas:------$\", monto_venta)\n",
        "print(\"Comisión pagada al vender:------------------------$\", comision_venta)\n",
        "print(\"Ganancia o pérdida neta:--------------------------$\", ganancia_perdida)\n"
      ],
      "metadata": {
        "id": "x2Q9r7joDsch",
        "colab": {
          "base_uri": "https://localhost:8080/"
        },
        "outputId": "fbd7e6e9-1ad1-4c80-ecf0-09b07e0cee40"
      },
      "execution_count": 32,
      "outputs": [
        {
          "output_type": "stream",
          "name": "stdout",
          "text": [
            "Cantidad pagada por las acciones:-----------------$ 32870.0\n",
            "Comisión pagada al comprar:-----------------------$ 657.4\n",
            "Cantidad recibida por las acciones vendidas:------$ 33920.0\n",
            "Comisión pagada al vender:------------------------$ 678.4\n",
            "Ganancia o pérdida neta:--------------------------$ -285.80000000000143\n"
          ]
        }
      ]
    }
  ]
}