{
  "nbformat": 4,
  "nbformat_minor": 0,
  "metadata": {
    "colab": {
      "provenance": [],
      "authorship_tag": "ABX9TyM+H6USarwKspDo5pK49y8z",
      "include_colab_link": true
    },
    "kernelspec": {
      "name": "python3",
      "display_name": "Python 3"
    },
    "language_info": {
      "name": "python"
    }
  },
  "cells": [
    {
      "cell_type": "markdown",
      "metadata": {
        "id": "view-in-github",
        "colab_type": "text"
      },
      "source": [
        "<a href=\"https://colab.research.google.com/github/JosueAlvarezCasarrubia/PRACTICA-DE-CLASE/blob/main/EXAMEN_1.ipynb\" target=\"_parent\"><img src=\"https://colab.research.google.com/assets/colab-badge.svg\" alt=\"Open In Colab\"/></a>"
      ]
    },
    {
      "cell_type": "markdown",
      "source": [
        "#EXAMEN1:\n",
        "\n",
        "En parejas, resuelva los siguientes problemas utilizando algoritmo, pseudocódigo y diagrama de flujo.\n",
        "1. Información de un Producto\n",
        "Diseña un programa que muestre la siguiente información sobre un producto:\n",
        "\n",
        "\n",
        "• Nombre del producto\n",
        "\n",
        "• Descripción del producto\n",
        "\n",
        "• Precio del producto\n",
        "\n",
        "• Código de barras\n",
        "\n"
      ],
      "metadata": {
        "id": "UhwRLDAiI93P"
      }
    },
    {
      "cell_type": "code",
      "execution_count": null,
      "metadata": {
        "id": "kYFBljSKI9X6"
      },
      "outputs": [],
      "source": [
        "//ALGORITMO:\n",
        "//Algoritmo para mostrar información de un producto.\n",
        "//1. Iniciar\n",
        "//2. Mostrar el nombre del producto\n",
        "//3. Mostrar la descripción del producto\n",
        "//4. Mostrar el precio del producto\n",
        "//5. Mostrar el código de barras del producto\n",
        "//6. Finalizar\n",
        "\n",
        "// PSEUDOCODIGO:\n",
        "Program mostrar_informacion_de_un_producto\n",
        "Start\n",
        "// Programa para mostar informacion de un producto\n",
        "\n",
        "// Declaracion de variables\n",
        "Declare string nombre_del_producto\n",
        "Declare float precio_del_producto\n",
        "Declare string descripcion_del_producto\n",
        "Declare string codigo_de_barras\n",
        "\n",
        "// Asignacion de valores\n",
        "Display ingrese nombre del producto\n",
        "Input nombre_del_producto\n",
        "Display ingrese descripcion del producto\n",
        "Input descripcion_del_producto\n",
        "Display ingrese precio del producto\n",
        "Input precio_de_producto\n",
        "Display ingrese codigo de barras\n",
        "Input codigo_de_barras\n",
        "\n",
        "// Presentacion de la informacion del producto\n",
        "// Display \"nombre del producto\" = nombre del producto\n",
        "// Display \"descripcion del producto\" = descripcion del producto\n",
        "// Display \"precio del producto\" = precio del producto\n",
        "// Display \"codigo de barras\" = codigo de barras\n",
        "\n",
        "End"
      ]
    },
    {
      "cell_type": "markdown",
      "source": [
        "2. Cálculo de Material para Construcción\n",
        "Una empresa constructora necesita saber cuántas bolsas de cemento se requieren para cubrir un área\n",
        "específica. Una bolsa de cemento cubre 1,500 pies cuadrados. Diseña un programa que pida al\n",
        "usuario ingresar el total de pies cuadrados a cubrir y calcule cuántas bolsas de cemento se\n",
        "nece"
      ],
      "metadata": {
        "id": "aqf-M9gpKP6V"
      }
    },
    {
      "cell_type": "code",
      "source": [
        "Algoritmo:\n",
        "1. Iniciar\n",
        "2. Solicitar al usuario ingresar el total de pies cuadrados a cubrir\n",
        "3. Calcular la cantidad de bolsas de cemento necesarias dividiendo el total de pies cuadrados entre la cobertura de una bolsa (1,500 pies cuadrados)\n",
        "4. Redondear el resultado al entero superior (ya que no se puede usar una fracción de bolsa)\n",
        "5. Mostrar la cantidad de bolsas de cemento necesarias\n",
        "6. Finalizar\n",
        "\n",
        "PSEUDOCODIGO:\n",
        "Program para_calcular_bolsas_de_cemento\n",
        "Start\n",
        "// Programa para calcular cuántas bolsas de cemento se necesitan para cubrir un área\n",
        "\n",
        "// Declaración de variables\n",
        "Declare Float area_a_Cubrir\n",
        "Declare Float bolsas_de_cemento\n",
        "\n",
        "// Obtención de datos\n",
        "Display \"Ingrese el total de pies cuadrados a cubrir: \"\n",
        "Input area_a_cubrir\n",
        "\n",
        "// Cálculo de la cantidad de bolsas de cemento\n",
        "Set bolsas_de_cemento = area_a_Cubrir / 1500\n",
        "Set bolsas_de_cemento = RoundUp(bolsasCemento) // Redondear al entero superior\n",
        "\n",
        "// Presentación de resultado\n",
        "Display \"Se necesitarán \", bolsas_de_cemento, \" bolsas de cemento.\"\n",
        "\n",
        "End"
      ],
      "metadata": {
        "id": "-J6bn4g6KW46"
      },
      "execution_count": null,
      "outputs": []
    },
    {
      "cell_type": "markdown",
      "source": [
        "//3. Programa de Ganancias y Pérdidas en un Negocio de Venta de Autos\n",
        "//El mes pasado, un concesionario de autos vendió un automóvil usado. Aquí están los detalles:\n",
        "//• El precio de compra del automóvil fue de $15,000.\n",
        "//• Se realizaron reparaciones que costaron $2,000.\n",
        "//• El concesionario vendió el automóvil por $18,500.\n",
        "//• Se pagó una comisión del 5% sobre el precio de venta al vendedor.\n",
        "//Diseña un programa que muestre la siguiente información:\n",
        "//• El costo total invertido en el automóvil.\n",
        "//• El monto de la comisión pagada al vendedor.\n",
        "//• El precio final de venta.\n",
        "//• La ganancia o pérdida después de la venta, considerando todos los costos y la comisión."
      ],
      "metadata": {
        "id": "T3jfhZrJKk1v"
      }
    },
    {
      "cell_type": "code",
      "source": [
        "//ALGORITMO: para calcular las ganancias y Pérdidas en un Negocio de Venta de Autos\n",
        "\n",
        "//Algoritmo para calcular las ganancias o pérdidas en la venta de un automóvil:\n",
        "//1- Iniciar.\n",
        "//2- Definir el precio de compra del automóvil, costo de las reparaciones, el precio de venta del automóvil\n",
        "//3- Calcular el costo total que invirtió la empresa sumando el precio de compra y el costo de las reparaciones\n",
        "//4- Calcular la comisión pagada al vendedor, esta es del 5% y se calcula como: precio de venta * 0.05\n",
        "//5-Calcular la ganancia o pérdida así: (precio de venta) - (costo total + la comisión)\n",
        "//6- Mostrar el costo total invertido, la comisión pagada, el precio de venta, y la ganancia o pérdida.\n",
        "//7- Finalizar.\n",
        "\n",
        "\n",
        "//PSEUDOCODIGO\n",
        "program perdida_ganancia\n",
        "start\n",
        "//programa para calcular las ganancias o pérdidas en la venta de un automóvil\n",
        "\n",
        "//DECLARAR LAS VARIABLES\n",
        "Declare float precio_compra\n",
        "Declare float reparaciones\n",
        "declare float precio_venta\n",
        "declare float comision\n",
        "declare float costo_total\n",
        "declare ganancia_pérdida\n",
        "\n",
        "//asignacion de datos\n",
        "set precio_compra = 15000\n",
        "set reparaciones = 2000\n",
        "set precio_venta = 18500\n",
        "\n",
        "//CALCULOS\n",
        "set costo_total = precio_compra + reparaciones\n",
        "set comision = presio_venta * 0.05\n",
        "set ganancia_pérdida = (precio_venta) - (costo_total + comision)\n",
        "\n",
        "//MOSTRAR RESULTADOS\n",
        "Display \"El costo total invertido en el automóvil: $\", costo_total\n",
        "Display \"la comisión pagada al vendedor es: $\", comision\n",
        "Display \"el precio final de la venta es: $\", precio_venta\n",
        "Display \"La ganancia o pérdida después de la venta es: $\", ganancia_pérdida\n",
        "\n",
        "end"
      ],
      "metadata": {
        "id": "sBKn3Ei3KpM5"
      },
      "execution_count": null,
      "outputs": []
    }
  ]
}