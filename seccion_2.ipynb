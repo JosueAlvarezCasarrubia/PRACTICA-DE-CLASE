{
  "nbformat": 4,
  "nbformat_minor": 0,
  "metadata": {
    "colab": {
      "provenance": [],
      "authorship_tag": "ABX9TyOZC2+Dw0iaQ/QJAmXdVQOL",
      "include_colab_link": true
    },
    "kernelspec": {
      "name": "python3",
      "display_name": "Python 3"
    },
    "language_info": {
      "name": "python"
    }
  },
  "cells": [
    {
      "cell_type": "markdown",
      "metadata": {
        "id": "view-in-github",
        "colab_type": "text"
      },
      "source": [
        "<a href=\"https://colab.research.google.com/github/JosueAlvarezCasarrubia/PRACTICA-DE-CLASE/blob/main/seccion_2.ipynb\" target=\"_parent\"><img src=\"https://colab.research.google.com/assets/colab-badge.svg\" alt=\"Open In Colab\"/></a>"
      ]
    },
    {
      "cell_type": "markdown",
      "source": [
        "# EJERCICIOS DE CLASE\n",
        "\n",
        "\n",
        "### FUNDAMENTOS DE PROGRAMACIÓN 2024_2\n",
        "\n",
        "**NOMBRE:** JOSUE ALVAREZ CASARRUBIA\n",
        "\n",
        "__EMAIL:__ josue.alvarez@upb.edu.co\n",
        "\n",
        "\n",
        "Curso: PROGRAMACIÓN Y ALGORITMIA\n",
        "\n",
        "Periodo: 202420\n",
        "\n",
        "Tema: Estructuras Selectivas\n",
        "\n",
        " Docente: Miguel Angel Ortiz Padilla\n"
      ],
      "metadata": {
        "id": "wUuVGG2GLg_d"
      }
    },
    {
      "cell_type": "markdown",
      "source": [
        "#1 Números Romanos:\n",
        "\n",
        "###Diseña un programa que solicite al usuario ingresar un número dentro del rango de 1 a 10.\n",
        "### El programa debe mostrar la versión en números romanos de ese número. Si el número está fuera del\n",
        "###rango de 1 a 10, el programa debe mostrar un mensaje de error."
      ],
      "metadata": {
        "id": "jxE_GkixMQTW"
      }
    },
    {
      "cell_type": "markdown",
      "source": [
        "##Algoritmo:Conversión de Números a Números Romanos\n",
        "1-Iniciar\n",
        "\n",
        "2-Solicitar al usuario ingresar un número entre 1 y 10\n",
        "\n",
        "3-Verificar si el número ingresado está dentro del rango permitido (1-10)\n",
        "\n",
        "      - Si está dentro del rango, convertir el número a su equivalente en números romanos\n",
        "      - Si está fuera del rango, mostrar un mensaje de error\n",
        "\n",
        "4- Mostrar el resultado de la conversión o el mensaje de error\n",
        "\n",
        "5- Finalizar"
      ],
      "metadata": {
        "id": "j1P4M_kbMk5q"
      }
    },
    {
      "cell_type": "code",
      "execution_count": null,
      "metadata": {
        "id": "5W927XtmLfxw"
      },
      "outputs": [],
      "source": [
        "# Pseudocódigo:\n",
        "# program Conversión_Números_Romanos\n",
        "# start\n",
        "\n",
        "# // Declaración de variables\n",
        "# Declare Integer numero\n",
        "# Declare String romano\n",
        "\n",
        "# // Solicitar ingreso del número\n",
        "# Display \"Ingrese un número entre 1 y 10: \"\n",
        "# Input numero\n",
        "\n",
        "# // Verificar si el número está dentro del rango permitido\n",
        "# if numero >= 1 and numero <= 10 then\n",
        "#     // Convertir el número a su equivalente en números romanos\n",
        "#     if numero == 1 then\n",
        "#         romano = \"I\"\n",
        "#     else if numero == 2 then\n",
        "#         romano = \"II\"\n",
        "#     else if numero == 3 then\n",
        "#         romano = \"III\"\n",
        "#     else if numero == 4 then\n",
        "#         romano = \"IV\"\n",
        "#     else if numero == 5 then\n",
        "#         romano = \"V\"\n",
        "#     else if numero == 6 then\n",
        "#         romano = \"VI\"\n",
        "#     else if numero == 7 then\n",
        "#         romano = \"VII\"\n",
        "#     else if numero == 8 then\n",
        "#         romano = \"VIII\"\n",
        "#     else if numero == 9 then\n",
        "#         romano = \"IX\"\n",
        "#     else\n",
        "#         romano = \"X\"\n",
        "#     end if\n",
        "\n",
        "#     // Mostrar el resultado\n",
        "#     Display \"El número en romano es: \", romano\n",
        "\n",
        "# else\n",
        "#     // Mostrar mensaje de error si el número está fuera del rango\n",
        "#     Display \"Error: Ingrese un número entre 1 y 10.\"\n",
        "# end if\n",
        "\n",
        "# end\n"
      ]
    },
    {
      "cell_type": "code",
      "source": [
        "# Programa para convertir números del 1 al 10 en su equivalente en números romanos\n",
        "\n",
        "# Solicitar al usuario ingresar un número\n",
        "numero = int(input(\"Ingrese un número entre 1 y 10: \"))\n",
        "\n",
        "# Verificar si el número está dentro del rango permitido\n",
        "if 1 <= numero <= 10:\n",
        "    # Convertir el número a romano usando if-else\n",
        "    if numero == 1:\n",
        "        romano = \"I\"\n",
        "    elif numero == 2:\n",
        "        romano = \"II\"\n",
        "    elif numero == 3:\n",
        "        romano = \"III\"\n",
        "    elif numero == 4:\n",
        "        romano = \"IV\"\n",
        "    elif numero == 5:\n",
        "        romano = \"V\"\n",
        "    elif numero == 6:\n",
        "        romano = \"VI\"\n",
        "    elif numero == 7:\n",
        "        romano = \"VII\"\n",
        "    elif numero == 8:\n",
        "        romano = \"VIII\"\n",
        "    elif numero == 9:\n",
        "        romano = \"IX\"\n",
        "    else:\n",
        "        romano = \"X\"\n",
        "\n",
        "    # Mostrar el número en romano\n",
        "    print(f\"El número en romano es: {romano}\")\n",
        "else:\n",
        "    # Mostrar mensaje de error si el número está fuera del rango\n",
        "    print(\"Error: Ingrese un número entre 1 y 10.\")\n"
      ],
      "metadata": {
        "colab": {
          "base_uri": "https://localhost:8080/"
        },
        "id": "UQ5dCrVFNkOA",
        "outputId": "53feb43b-1360-46d0-d597-229e30ad7580"
      },
      "execution_count": 1,
      "outputs": [
        {
          "output_type": "stream",
          "name": "stdout",
          "text": [
            "Ingrese un número entre 1 y 10: 5\n",
            "El número en romano es: V\n"
          ]
        }
      ]
    }
  ]
}