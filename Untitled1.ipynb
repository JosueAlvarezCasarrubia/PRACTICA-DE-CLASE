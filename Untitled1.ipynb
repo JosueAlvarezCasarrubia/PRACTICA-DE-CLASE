{
  "nbformat": 4,
  "nbformat_minor": 0,
  "metadata": {
    "colab": {
      "provenance": [],
      "authorship_tag": "ABX9TyN2GEPA/43GO2ZUFoHAShX1",
      "include_colab_link": true
    },
    "kernelspec": {
      "name": "python3",
      "display_name": "Python 3"
    },
    "language_info": {
      "name": "python"
    }
  },
  "cells": [
    {
      "cell_type": "markdown",
      "metadata": {
        "id": "view-in-github",
        "colab_type": "text"
      },
      "source": [
        "<a href=\"https://colab.research.google.com/github/JosueAlvarezCasarrubia/PRACTICA-DE-CLASE-JOSUE/blob/main/Untitled1.ipynb\" target=\"_parent\"><img src=\"https://colab.research.google.com/assets/colab-badge.svg\" alt=\"Open In Colab\"/></a>"
      ]
    },
    {
      "cell_type": "code",
      "execution_count": 21,
      "metadata": {
        "colab": {
          "base_uri": "https://localhost:8080/"
        },
        "id": "-mO_TCTi18r-",
        "outputId": "7a6be638-285a-4757-b5da-2ea8212163b5"
      },
      "outputs": [
        {
          "output_type": "stream",
          "name": "stdout",
          "text": [
            "no obtuviste la comision de ventas\n"
          ]
        }
      ],
      "source": [
        "\n",
        "ventas = 40000\n",
        "\n",
        "if ventas >= 50000:\n",
        "      bonus = 500\n",
        "      comision = 0.12\n",
        "      print(\"haz alcanzado el objetivo de venta\")\n",
        "elif ventas < 50000 :\n",
        "       print(\"no obtuviste la comision de ventas\")\n",
        ""
      ]
    },
    {
      "cell_type": "code",
      "source": [
        "from typing_extensions import TYPE_CHECKING\n",
        "#algoritmo para determinar el precio de un tiquete de ida y vuelta\n",
        "\n",
        "#1- iniciar\n",
        "#2- obtener la tarifa estandar\n",
        "#3- obtener la distancia a recorrer\n",
        "#4- obrtener el tiempo de estancia en dias\n",
        "#5- si la distancia es mayor a 800 km y el tiempo de estancia es mayor a 7 dias calcular el valor de la tarifa con 30% de descuento\n",
        "#6- mostrar tarifa\n",
        "#7- finalizar\n",
        "\n",
        "pseudocodigo\n",
        "\n",
        "tarifa=\n",
        "distancia=\n",
        "tiempo=\n",
        "constant float descuento =0.3\n",
        "constante float minimodistancia=800\n",
        "constante integer minimotiempo0 7\n",
        "\n",
        "\n",
        "display:\n",
        "imput\n",
        "\n",
        "\n",
        "if distancia mayor minimo distancia y tiempo mayor tiempo minimo then\n",
        "            precio= dista"
      ],
      "metadata": {
        "id": "nmF3E1lD9wUS"
      },
      "execution_count": null,
      "outputs": []
    }
  ]
}